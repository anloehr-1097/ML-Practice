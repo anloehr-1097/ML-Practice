{
 "cells": [
  {
   "cell_type": "code",
   "execution_count": 1,
   "metadata": {},
   "outputs": [],
   "source": [
    "from typing import Tuple, Optional, Dict, List\n",
    "import random\n",
    "import torch\n",
    "from torch import Tensor\n",
    "from torchvision.transforms.functional import pil_to_tensor\n",
    "from torchvision.datasets import MNIST\n",
    "from torchvision.transforms import v2"
   ]
  },
  {
   "cell_type": "code",
   "execution_count": 2,
   "metadata": {},
   "outputs": [
    {
     "name": "stderr",
     "output_type": "stream",
     "text": [
      "/home/andy/anaconda3/envs/ML-Practice/lib/python3.12/site-packages/torchvision/transforms/v2/_deprecated.py:42: UserWarning: The transform `ToTensor()` is deprecated and will be removed in a future release. Instead, please use `v2.Compose([v2.ToImage(), v2.ToDtype(torch.float32, scale=True)])`.Output is equivalent up to float precision.\n",
      "  warnings.warn(\n"
     ]
    }
   ],
   "source": [
    "transform = v2.Compose([\n",
    "    v2.ToTensor(),\n",
    "    # v2.ToImage(), \n",
    "    v2.ToDtype(torch.float32, scale=True),\n",
    "    #v2.Lambda(lambda x: x.view(-1) - 0.5),\n",
    "])\n",
    "\n",
    "mnist_data =  MNIST(root=\".\", download=True, transform=transform)"
   ]
  },
  {
   "cell_type": "code",
   "execution_count": 3,
   "metadata": {},
   "outputs": [
    {
     "data": {
      "text/plain": [
       "torch.Size([28, 28])"
      ]
     },
     "execution_count": 3,
     "metadata": {},
     "output_type": "execute_result"
    }
   ],
   "source": [
    "type(mnist_data)\n",
    "sample = mnist_data[0]\n",
    "MNIST_SIZE = sample[0].size()[1:]\n",
    "\n",
    "MNIST_SIZE\n",
    "# display(sample[0]), print(sample[1]), MNIST_SIZE"
   ]
  },
  {
   "cell_type": "code",
   "execution_count": 4,
   "metadata": {},
   "outputs": [],
   "source": [
    "BATCH_SIZE = 128\n",
    "# Create data loaders\n",
    "train_loader = torch.utils.data.DataLoader(\n",
    "    mnist_data, \n",
    "    batch_size=BATCH_SIZE, \n",
    "    shuffle=True,\n",
    ")"
   ]
  },
  {
   "cell_type": "code",
   "execution_count": 6,
   "metadata": {},
   "outputs": [],
   "source": [
    "def transform_img(img: \"Image\"):\n",
    "    intermediate_img: Tensor = pil_to_tensor(img)\n",
    "    return intermediate_img / 255"
   ]
  },
  {
   "cell_type": "code",
   "execution_count": 144,
   "metadata": {},
   "outputs": [],
   "source": [
    "import logging\n",
    "logger = logging.getLogger(__name__)\n",
    "logger = logging.getLogger(\"This\")\n",
    "logger.setLevel(logging.INFO)\n",
    "\n",
    "# TODO change all layer to torch.nn.LAYERTYPE\n",
    "\n",
    "\n",
    "class Encoder(torch.nn.Module):\n",
    "    def __init__(self):\n",
    "        super(Encoder, self).__init__()\n",
    "        self.flatten_inp: torch.nn.Flatte = torch.nn.Flatten()\n",
    "        # self.inp_layer: Tensor =  torch.rand(size=(MNIST_SIZE[0] * MNIST_SIZE[1], 20)).to(float)  # hidden dim=20\n",
    "        self.inp_layer: torch.nn.Linear =  torch.nn.Linear(in_features=MNIST_SIZE[0] * MNIST_SIZE[1], out_features=20)\n",
    "        # self.bias1: Tensor = torch.rand(20)\n",
    "        # self.layer2_mu: Tensor = torch.rand(size=(20, 5)).to(float)\n",
    "        self.layer2_mu: torch.nn.Linear = torch.nn.Linear(in_features=20, out_features=5)\n",
    "        # self.layer2_sigma: Tensor = torch.rand(size=(20, 5)).to(float)\n",
    "        self.layer2_sigma: torch.nn.Linear = torch.nn.Linear(in_features=20, out_features=5)\n",
    "        # self.bias2_mu: Tensor = torch.rand(size=(1, 5))\n",
    "        # self.bias2_sigma: Tensor = torch.rand(size=(1, 5))\n",
    "        self.distr: Optional[torch.distributions.Normal] = None\n",
    "        self.tanh = torch.nn.Tanh()\n",
    "        return None\n",
    "\n",
    "    def __forward__(self, x: Tensor):\n",
    "        # encoder returns mu and log sigma^2\n",
    "        x = self.flatten_inp(x)\n",
    "        x = self.inp_layer(x)\n",
    "        x = self.tanh(x)\n",
    "        mu = self.layer2_mu(x)\n",
    "        log_sigma_square = self.layer2_sigma(x)\n",
    "        return (mu, log_sigma_square)\n",
    "\n",
    "    def __call__(self, x: Tensor):\n",
    "        return self.__forward__(x)\n",
    "\n",
    "\n",
    "class Decoder(torch.nn.Module):\n",
    "    def __init__(self):\n",
    "        super(Decoder, self).__init__()\n",
    "        # 5 -> 100\n",
    "        # 100 -> 784\n",
    "        self.inp_layer: torch.nn.Linear = torch.nn.Linear(in_features=5, out_features=100)\n",
    "        self.layer_1_mu: torch.nn.Linear = torch.nn.Linear(in_features=100, out_features=784)\n",
    "        self.layer_1_sigma: torch.nn.Linear = torch.nn.Linear(in_features=100, out_features=784)\n",
    "        self.tanh = torch.nn.Tanh()\n",
    "        return None\n",
    "        \n",
    "    def __forward__(self, x: Tensor):\n",
    "        logger.info(x.size())\n",
    "        x = self.inp_layer(x)\n",
    "        logger.info(x.size())\n",
    "        x = self.tanh(x)\n",
    "        logger.info(x.size())\n",
    "        mu = self.layer_1_mu(x)\n",
    "        log_sigma_square = self.layer_1_sigma(x)\n",
    "        logger.info((mu.size(), log_sigma_square.size()))\n",
    "        return (mu, log_sigma_square)\n",
    "\n",
    "    def __call__(self, x: Tensor):\n",
    "        return self.__forward__(x)\n",
    "\n",
    "class VAE(torch.nn.Module):\n",
    "    def __init__(self, enc: Encoder, dec: Decoder):\n",
    "        super(VAE, self).__init__()\n",
    "        self.enc = enc\n",
    "        self.dec = dec\n",
    "\n",
    "    def __forward__(self, x: Tensor) -> Tensor:\n",
    "        mu_enc: Tensor\n",
    "        log_sigma_square_enc: Tensor\n",
    "        mu_dec: Tensor\n",
    "        log_sigma_square_dec: Tensor\n",
    "\n",
    "        mu_enc, log_sigma_square_enc=  self.enc(x)\n",
    "        # latent_norm_enc: Dict[str, Tensor] = {\"loc\": x_enc[0], \"scale\": torch.exp(x_enc[1])}\n",
    "        latent_distr: torch.distributions.MultivariateNormal = torch.distributions.MultivariateNormal(\n",
    "            loc=mu_enc,\n",
    "            covariance_matrix=torch.diag_embed(torch.exp(log_sigma_square_enc))\n",
    "            # covariance_matrix=torch.eye(mu_enc.numel())*torch.exp(log_sigma_square_enc)\n",
    "        )\n",
    "        z: Tensor = latent_distr.rsample()\n",
    "        \n",
    "        mu_dec, log_sigma_square_dec = self.dec(z)\n",
    "        reconstr_distr: torch.distributions.MultivariateNormal = torch.distributions.MultivariateNormal(\n",
    "            loc=mu_dec,\n",
    "            # covariance_matrix=torch.eye(mu_dec.numel())*torch.exp(log_sigma_square_dec)\n",
    "            covariance_matrix=torch.diag_embed(torch.exp(log_sigma_square_dec))\n",
    "        )\n",
    "        reconstr_var: Tensor = reconstr_distr.rsample()\n",
    "        return reconstr_var\n",
    "\n",
    "    def encode(self, x: Tensor) -> Tuple[Tensor, Tensor]:\n",
    "        # TODO rework\n",
    "        mu: Tensor\n",
    "        sigma: Tensor\n",
    "        mu, sigma = self.enc(x)\n",
    "        distr: torch.distributions.MultivariateNormal = \\\n",
    "            torch.distributions.MultivariateNormal(\n",
    "                loc=mu,\n",
    "                covariance_matrix=torch.eye(mu.numel())*sigma.pow(2)\n",
    "                )\n",
    "        return distr.rsample()\n",
    "\n",
    "    def decode(self, z: Tensor) -> Tensor:\n",
    "        # TODO rework\n",
    "        mu: Tensor\n",
    "        sigma: Tensor\n",
    "        mu, sigma = self.dec(z)\n",
    "        distr: torch.distributions.MultivariateNormal = \\\n",
    "            torch.distributions.MultivariateNormal(\n",
    "                loc=mu,\n",
    "                covariance_matrix=torch.eye(mu.numel())*sigma.pow(2)\n",
    "                )\n",
    "        return distr.rsample()\n",
    "\n",
    "    def __call__(self, x: Tensor):\n",
    "        return self.__forward__(x)"
   ]
  },
  {
   "cell_type": "code",
   "execution_count": 145,
   "metadata": {},
   "outputs": [
    {
     "data": {
      "text/plain": [
       "torch.Size([64, 1, 28, 28])"
      ]
     },
     "execution_count": 145,
     "metadata": {},
     "output_type": "execute_result"
    }
   ],
   "source": [
    "enc = Encoder()\n",
    "some_index: int = random.randint(0, len(mnist_data))\n",
    "img_tens = list(iter(mnist_data))[some_index][0]\n",
    "img_tens.dtype, img_tens.size()\n",
    "\n",
    "\n",
    "data_iter = iter(train_loader)\n",
    "sample_batch = next(data_iter)\n",
    "sample_batch[0].size()"
   ]
  },
  {
   "cell_type": "code",
   "execution_count": 213,
   "metadata": {},
   "outputs": [
    {
     "data": {
      "text/plain": [
       "tensor(1.)"
      ]
     },
     "execution_count": 213,
     "metadata": {},
     "output_type": "execute_result"
    }
   ],
   "source": [
    "sample_batch[0].max()"
   ]
  },
  {
   "cell_type": "code",
   "execution_count": 146,
   "metadata": {},
   "outputs": [
    {
     "data": {
      "text/plain": [
       "torch.Size([64, 5])"
      ]
     },
     "execution_count": 146,
     "metadata": {},
     "output_type": "execute_result"
    }
   ],
   "source": [
    "y = enc(sample_batch[0])\n",
    "mu, sigma = y\n",
    "# z = torch.distributions.MultivariateNormal(mu, torch.eye(mu.numel())*sigma.pow(2)).rsample()\n",
    "z = torch.distributions.MultivariateNormal(mu, torch.diag_embed(torch.exp(sigma))).rsample()\n",
    "z.size()"
   ]
  },
  {
   "cell_type": "code",
   "execution_count": 147,
   "metadata": {},
   "outputs": [
    {
     "data": {
      "text/plain": [
       "tensor([[ 0.1978, -0.0468, -0.2015, -0.5478, -0.1834]], grad_fn=<AddBackward0>)"
      ]
     },
     "execution_count": 147,
     "metadata": {},
     "output_type": "execute_result"
    }
   ],
   "source": [
    "y  = enc(img_tens)\n",
    "mu, sigma = y\n",
    "z = torch.distributions.MultivariateNormal(mu, torch.eye(mu.numel())*sigma.pow(2)).rsample()\n",
    "z"
   ]
  },
  {
   "cell_type": "code",
   "execution_count": 148,
   "metadata": {},
   "outputs": [
    {
     "name": "stdout",
     "output_type": "stream",
     "text": [
      "torch.Size([1, 784]) torch.Size([1, 784])\n"
     ]
    }
   ],
   "source": [
    "dec = Decoder()\n",
    "mu_x, sigma_x = dec(z)\n",
    "print(mu_x.size(), sigma_x.size())\n",
    "rec_sample = torch.distributions.MultivariateNormal(mu_x, torch.eye(mu_x.numel())*sigma_x.pow(2)).rsample()"
   ]
  },
  {
   "cell_type": "code",
   "execution_count": 149,
   "metadata": {},
   "outputs": [],
   "source": [
    "vae = VAE(enc, dec)"
   ]
  },
  {
   "cell_type": "code",
   "execution_count": 150,
   "metadata": {},
   "outputs": [
    {
     "data": {
      "text/plain": [
       "<matplotlib.image.AxesImage at 0x349a43b90>"
      ]
     },
     "execution_count": 150,
     "metadata": {},
     "output_type": "execute_result"
    },
    {
     "data": {
      "image/png": "[encoded data removed]",
      "text/plain": [
       "<Figure size 640x480 with 1 Axes>"
      ]
     },
     "metadata": {},
     "output_type": "display_data"
    }
   ],
   "source": [
    "import matplotlib.pyplot as plt\n",
    "# !conda install -y matplotlib\n",
    "# display(rec_sample)\n",
    "plt.imshow(img_tens[0, :, :])"
   ]
  },
  {
   "cell_type": "code",
   "execution_count": 151,
   "metadata": {},
   "outputs": [
    {
     "data": {
      "text/plain": [
       "<matplotlib.image.AxesImage at 0x349b9a270>"
      ]
     },
     "execution_count": 151,
     "metadata": {},
     "output_type": "execute_result"
    },
    {
     "data": {
      "image/png": "[encoded data removed]",
      "text/plain": [
       "<Figure size 640x480 with 1 Axes>"
      ]
     },
     "metadata": {},
     "output_type": "display_data"
    }
   ],
   "source": [
    "\n",
    "plt.imshow(torch.reshape(rec_sample, (28,28)).detach().numpy())\n"
   ]
  },
  {
   "cell_type": "code",
   "execution_count": 276,
   "metadata": {},
   "outputs": [],
   "source": [
    "def elbo(x_i, mu: Tensor, log_sigma_square: Tensor, log_prob: Tensor):\n",
    "    # mu is mu parametrized by encoder\n",
    "    # sigma is variance as parametrized by encoder \n",
    "    # log prob is log p_{\\theta}(x^{i} \\mid z^{i}) or a Monte Carlo estimate based on this\n",
    "    # where log p ... is just the pdf evald\n",
    "    loss: Tensor = Tensor([0])\n",
    "    ones: Tensor = torch.ones(log_sigma_square.size())\n",
    "    mu_square: Tensor = mu.pow(2)\n",
    "    intermed: Tensor = ones + log_sigma_square - mu_square - log_sigma_square.exp()\n",
    "    intermed = intermed.sum(dim=1)\n",
    "    final = torch.mean(- 1/2 * intermed + log_prob)\n",
    "\n",
    "    print(f\"Loss size: {loss.size()}\")\n",
    "    print(f\"log_sigma_square size: {log_sigma_square.size()}\")\n",
    "    print(f\"mu_square size: {mu_square.size()}\")\n",
    "    print(f\"log_prob size: {log_prob.size()}\")\n",
    "    print(f\"intermed size: {intermed.size()}\")\n",
    "    print(f\"final size: {final.size()}\")\n",
    "    print(f\"final: {final}\")\n",
    "\n",
    "    # print(loss.size(), log_sigma_square.size(), mu_square.size(), log_prob.size(), intermed.size(), final.size())\n",
    "    # sigma_square: Tensor = torch.square(sigma)\n",
    "    # return 1/2 * torch.mean((torch.sum(ones + log_sigma_square - mu_square - torch.exp(log_sigma_square)))+ log_prob)\n",
    "    # return 1/2 * torch.mean(intermed + log_prob)\n",
    "    return final\n",
    "    "
   ]
  },
  {
   "cell_type": "code",
   "execution_count": 302,
   "metadata": {},
   "outputs": [],
   "source": [
    "def criterion(x, x_hat, mu: Tensor, log_sigma_square: Tensor):\n",
    "    # mu is mu parametrized by encoder\n",
    "    # sigma is variance as parametrized by encoder \n",
    "    # log prob is log p_{\\theta}(x^{i} \\mid z^{i}) or a Monte Carlo estimate based on this\n",
    "    # where log p ... is just the pdf evald\n",
    "    rep_loss = torch.nn.functional.binary_cross_entropy(x_hat, x, reduction='sum')\n",
    "\n",
    "    loss: Tensor = Tensor([0])\n",
    "    ones: Tensor = torch.ones(log_sigma_square.size())\n",
    "    mu_square: Tensor = mu.pow(2)\n",
    "    # print(loss.size(), log_sigma_square.size(), mu_square.size(), log_prob.size())\n",
    "    # sigma_square: Tensor = torch.square(sigma)\n",
    "    return torch.mean(1/2 * torch.sum(ones + log_sigma_square - mu_square - log_sigma_square.exp())) + rep_loss\n",
    "    \n",
    "\n",
    "# reproduction_loss = nn.functional.binary_cross_entropy(x_hat, x, reduction='sum')\n"
   ]
  },
  {
   "cell_type": "code",
   "execution_count": 303,
   "metadata": {},
   "outputs": [],
   "source": [
    "enc = Encoder()\n",
    "dec = Decoder()\n",
    "vae = VAE(enc, dec)\n"
   ]
  },
  {
   "cell_type": "markdown",
   "metadata": {},
   "source": [
    "# old training function step by step\n",
    "LEARNING_RATE = 1e-3\n",
    "WEIGHT_DECAY = 1e-2\n",
    "def train(epochs: int, vae: VAE, xs: List[Tensor]):\n",
    "    optim: torch.optim.Adam = torch.optim.Adam(params=vae.parameters(),\n",
    "                                              lr=LEARNING_RATE,\n",
    "                                              weight_decay=WEIGHT_DECAY)\n",
    "    enc: Encoder = vae.enc\n",
    "    dec: Decoder = vae.dec\n",
    "    # NUM_SAMPLES: int = 10\n",
    "    for epoch in range(epochs):\n",
    "        for i, x in enumerate(xs):\n",
    "            optim.zero_grad()\n",
    "            # posterior params\n",
    "            enc_mu_sigma: Tuple[Tensor, Tensor] = enc.__forward__(x)\n",
    "            print(f\"@sample {i}: {enc_mu_sigma[0]}, {enc_mu_sigma[1]}\")\n",
    "            # z = torch.distributions.Normal(loc=enc_mu_sigma[0], scale=torch.exp(enc_mu_sigma[1])).rsample()\n",
    "            z = torch.distributions.MultivariateNormal(loc=enc_mu_sigma[0], covariance_matrix=torch.eye(5)*torch.exp(enc_mu_sigma[1])).rsample()\n",
    "            # reconstr distr params\n",
    "            dec_mu_sigma: Tuple[Tensor, Tensor] = dec.__forward__(z)\n",
    "            rec_distr: torch.distributions.Distribution = torch.distributions.MultivariateNormal(\n",
    "                loc=dec_mu_sigma[0], covariance_matrix=torch.eye(x.size()[0])*torch.exp(dec_mu_sigma[1]))\n",
    "            log_prob: Tensor = rec_distr.log_prob(x)\n",
    "            loss: Tensor = elbo(x, enc_mu_sigma[0], enc_mu_sigma[1], log_prob)\n",
    "            print(f\"Loss @ this stage: {loss}\")\n",
    "            loss.backward()\n",
    "            optim.step()\n",
    "        print(f\"Finished Iteration no {epoch}\")\n",
    "    return None"
   ]
  },
  {
   "cell_type": "markdown",
   "metadata": {},
   "source": [
    "## Successful trainign with this training loop\n"
   ]
  },
  {
   "cell_type": "code",
   "execution_count": 313,
   "metadata": {},
   "outputs": [],
   "source": [
    "LEARNING_RATE = 1e-4\n",
    "WEIGHT_DECAY = 1e-4\n",
    "def train(epochs: int, vae: VAE, dataloader: torch.utils.data.DataLoader):\n",
    "    optim: torch.optim.Adam = torch.optim.Adam(params=vae.parameters(),\n",
    "                                              lr=LEARNING_RATE,\n",
    "                                              weight_decay=WEIGHT_DECAY)\n",
    "    vae.train()\n",
    "    enc: Encoder = vae.enc\n",
    "    dec: Decoder = vae.dec\n",
    "    # NUM_SAMPLES: int = 10\n",
    "    for epoch in range(epochs):\n",
    "        for batch_idx, (x, target) in enumerate(dataloader):\n",
    "            optim.zero_grad()\n",
    "            # posterior params\n",
    "            enc_mu_sigma: Tuple[Tensor, Tensor] = enc.__forward__(x)\n",
    "            print(f\"@sample {batch_idx}: {enc_mu_sigma[0]}, {enc_mu_sigma[1]}\")\n",
    "            # z = torch.distributions.Normal(loc=enc_mu_sigma[0], scale=torch.exp(enc_mu_sigma[1])).rsample()\n",
    "            z = torch.distributions.MultivariateNormal(\n",
    "                loc=enc_mu_sigma[0], \n",
    "                covariance_matrix=torch.diag_embed(torch.exp(enc_mu_sigma[1]))).rsample()\n",
    "                # covariance_matrix=torch.eye(5)*torch.exp(enc_mu_sigma[1])).rsample()\n",
    "            # reconstr distr params\n",
    "            dec_mu_sigma: Tuple[Tensor, Tensor] = dec.__forward__(z)\n",
    "            rec_distr: torch.distributions.Distribution = torch.distributions.MultivariateNormal(\n",
    "                loc=dec_mu_sigma[0], covariance_matrix=torch.diag_embed(torch.exp(dec_mu_sigma[1])))\n",
    "                # loc=dec_mu_sigma[0], covariance_matrix=torch.eye(x.size()[0])*torch.exp(dec_mu_sigma[1]))\n",
    "            # log_prob: Tensor = rec_distr.log_prob(torch.flatten(x, start_dim=1))\n",
    "            # loss: Tensor = elbo(x, enc_mu_sigma[0], enc_mu_sigma[1], log_prob)\n",
    "            x_hat = torch.sigmoid(rec_distr.rsample())\n",
    "            print(f\"x_hat: {x.min(), x.max(), x_hat.min(), x_hat.max()} \")\n",
    "            loss: Tensor = criterion(x.flatten(start_dim=1), x_hat, enc_mu_sigma[0], enc_mu_sigma[1])\n",
    "\n",
    "            print(f\"Loss @ this stage: {loss}\")\n",
    "            loss.backward()\n",
    "            torch.nn.utils.clip_grad_norm_(vae.parameters(), 1.0)    \n",
    "            optim.step()\n",
    "        print(f\"Finished Iteration no {epoch}\")\n",
    "    return None"
   ]
  },
  {
   "cell_type": "markdown",
   "metadata": {},
   "source": [
    "## trying with actual reconstruction error"
   ]
  },
  {
   "cell_type": "code",
   "execution_count": 281,
   "metadata": {},
   "outputs": [],
   "source": [
    "LEARNING_RATE = 1e-4\n",
    "WEIGHT_DECAY = 0\n",
    "def train(epochs: int, vae: VAE, dataloader: torch.utils.data.DataLoader):\n",
    "    optim: torch.optim.Adam = torch.optim.Adam(params=vae.parameters(),\n",
    "                                              lr=LEARNING_RATE,\n",
    "                                              weight_decay=WEIGHT_DECAY)\n",
    "    vae.train()\n",
    "    enc: Encoder = vae.enc\n",
    "    dec: Decoder = vae.dec\n",
    "    # NUM_SAMPLES: int = 10\n",
    "    for epoch in range(epochs):\n",
    "        for batch_idx, (x, target) in enumerate(dataloader):\n",
    "            optim.zero_grad()\n",
    "            # posterior params\n",
    "            enc_mu_sigma: Tuple[Tensor, Tensor] = enc.__forward__(x)\n",
    "            print(f\"@sample {batch_idx}: {enc_mu_sigma[0]}, {enc_mu_sigma[1]}\")\n",
    "            # z = torch.distributions.Normal(loc=enc_mu_sigma[0], scale=torch.exp(enc_mu_sigma[1])).rsample()\n",
    "            z = torch.distributions.MultivariateNormal(\n",
    "                loc=enc_mu_sigma[0], \n",
    "                covariance_matrix=torch.diag_embed(torch.exp(enc_mu_sigma[1]))).rsample(sample_shape=torch.Size([10]))\n",
    "                # covariance_matrix=torch.eye(5)*torch.exp(enc_mu_sigma[1])).rsample()\n",
    "            # reconstr distr params\n",
    "            dec_mu_sigma: Tuple[Tensor, Tensor] = dec.__forward__(z)\n",
    "            rec_distr: torch.distributions.Distribution = torch.distributions.MultivariateNormal(\n",
    "                loc=dec_mu_sigma[0], covariance_matrix=torch.diag_embed(torch.exp(dec_mu_sigma[1])))\n",
    "                # loc=dec_mu_sigma[0], covariance_matrix=torch.eye(x.size()[0])*torch.exp(dec_mu_sigma[1]))\n",
    "            log_prob: Tensor = - rec_distr.log_prob(torch.flatten(x, start_dim=1)).mean(dim=0)\n",
    "            loss: Tensor = elbo(x, enc_mu_sigma[0], enc_mu_sigma[1], log_prob)\n",
    "            # x_hat = torch.sigmoid(rec_distr.rsample())\n",
    "            # loss: Tensor = criterion(x.flatten(start_dim=1), x_hat, enc_mu_sigma[0], enc_mu_sigma[1])\n",
    "            # print(f\"x_hat: {x.min(), x.max(), x_hat.min(), x_hat.max()} \")\n",
    "\n",
    "            print(f\"Loss @ this stage: {loss}\")\n",
    "            loss.backward()\n",
    "            # torch.nn.utils.clip_grad_norm_(vae.parameters(), 1.0)    \n",
    "            optim.step()\n",
    "        print(f\"Finished Iteration no {epoch}\")\n",
    "    return None"
   ]
  },
  {
   "cell_type": "markdown",
   "metadata": {},
   "source": [
    "def train(model, dataloader, optimizer, prev_updates, writer=None):\n",
    "    \"\"\"\n",
    "    Trains the model on the given data.\n",
    "    \n",
    "    Args:\n",
    "        model (nn.Module): The model to train.\n",
    "        dataloader (torch.utils.data.DataLoader): The data loader.\n",
    "        loss_fn: The loss function.\n",
    "        optimizer: The optimizer.\n",
    "    \"\"\"\n",
    "    model.train()  # Set the model to training mode\n",
    "    \n",
    "    for batch_idx, (data, target) in enumerate(tqdm(dataloader)):\n",
    "        n_upd = prev_updates + batch_idx\n",
    "        \n",
    "        data = data.to(device)\n",
    "        \n",
    "        optimizer.zero_grad()  # Zero the gradients\n",
    "        \n",
    "        output = model(data)  # Forward pass\n",
    "        loss = output.loss\n",
    "        \n",
    "        loss.backward()\n",
    "        \n",
    "        if n_upd % 100 == 0:\n",
    "            # Calculate and log gradient norms\n",
    "            total_norm = 0.0\n",
    "            for p in model.parameters():\n",
    "                if p.grad is not None:\n",
    "                    param_norm = p.grad.data.norm(2)\n",
    "                    total_norm += param_norm.item() ** 2\n",
    "            total_norm = total_norm ** (1. / 2)\n",
    "        \n",
    "            print(f'Step {n_upd:,} (N samples: {n_upd*batch_size:,}), Loss: {loss.item():.4f} (Recon: {output.loss_recon.item():.4f}, KL: {output.loss_kl.item():.4f}) Grad: {total_norm:.4f}')\n",
    "\n",
    "            if writer is not None:\n",
    "                global_step = n_upd\n",
    "                writer.add_scalar('Loss/Train', loss.item(), global_step)\n",
    "                writer.add_scalar('Loss/Train/BCE', output.loss_recon.item(), global_step)\n",
    "                writer.add_scalar('Loss/Train/KLD', output.loss_kl.item(), global_step)\n",
    "                writer.add_scalar('GradNorm/Train', total_norm, global_step)\n",
    "            \n",
    "        # gradient clipping\n",
    "        torch.nn.utils.clip_grad_norm_(model.parameters(), 1.0)    \n",
    "        \n",
    "        optimizer.step()  # Update the model parameters\n",
    "        \n",
    "    return prev_updates + len(dataloader) "
   ]
  },
  {
   "cell_type": "code",
   "execution_count": 5,
   "metadata": {},
   "outputs": [],
   "source": [
    "%load_ext autoreload\n",
    "%autoreload 2"
   ]
  },
  {
   "cell_type": "code",
   "execution_count": 6,
   "metadata": {},
   "outputs": [],
   "source": [
    "from VAE import train, VAE, Encoder, Decoder"
   ]
  },
  {
   "cell_type": "code",
   "execution_count": 7,
   "metadata": {},
   "outputs": [],
   "source": [
    "enc = Encoder(MNIST_SIZE)\n",
    "dec = Decoder()\n",
    "vae = VAE(enc, dec)"
   ]
  },
  {
   "cell_type": "code",
   "execution_count": 8,
   "metadata": {},
   "outputs": [],
   "source": [
    "from VAE import train"
   ]
  },
  {
   "cell_type": "code",
   "execution_count": 9,
   "metadata": {},
   "outputs": [
    {
     "name": "stderr",
     "output_type": "stream",
     "text": [
      "100%|██████████| 469/469 [02:00<00:00,  3.89it/s]\n"
     ]
    },
    {
     "name": "stdout",
     "output_type": "stream",
     "text": [
      "Finished Iteration no 0 with loss: 6274320.176269531\n"
     ]
    },
    {
     "name": "stderr",
     "output_type": "stream",
     "text": [
      "100%|██████████| 469/469 [01:59<00:00,  3.92it/s]\n"
     ]
    },
    {
     "name": "stdout",
     "output_type": "stream",
     "text": [
      "Finished Iteration no 1 with loss: 3423646.498046875\n"
     ]
    },
    {
     "name": "stderr",
     "output_type": "stream",
     "text": [
      "100%|██████████| 469/469 [01:58<00:00,  3.95it/s]\n"
     ]
    },
    {
     "name": "stdout",
     "output_type": "stream",
     "text": [
      "Finished Iteration no 2 with loss: 3284636.400390625\n"
     ]
    },
    {
     "name": "stderr",
     "output_type": "stream",
     "text": [
      "100%|██████████| 469/469 [01:59<00:00,  3.94it/s]\n"
     ]
    },
    {
     "name": "stdout",
     "output_type": "stream",
     "text": [
      "Finished Iteration no 3 with loss: 3164120.1572265625\n"
     ]
    },
    {
     "name": "stderr",
     "output_type": "stream",
     "text": [
      "100%|██████████| 469/469 [01:52<00:00,  4.17it/s]\n"
     ]
    },
    {
     "name": "stdout",
     "output_type": "stream",
     "text": [
      "Finished Iteration no 4 with loss: 2987600.1762695312\n"
     ]
    },
    {
     "name": "stderr",
     "output_type": "stream",
     "text": [
      "100%|██████████| 469/469 [01:38<00:00,  4.74it/s]\n"
     ]
    },
    {
     "name": "stdout",
     "output_type": "stream",
     "text": [
      "Finished Iteration no 5 with loss: 2864067.2260742188\n"
     ]
    },
    {
     "name": "stderr",
     "output_type": "stream",
     "text": [
      "100%|██████████| 469/469 [01:06<00:00,  7.09it/s]\n"
     ]
    },
    {
     "name": "stdout",
     "output_type": "stream",
     "text": [
      "Finished Iteration no 6 with loss: 2708968.12890625\n"
     ]
    },
    {
     "name": "stderr",
     "output_type": "stream",
     "text": [
      "100%|██████████| 469/469 [01:05<00:00,  7.12it/s]\n"
     ]
    },
    {
     "name": "stdout",
     "output_type": "stream",
     "text": [
      "Finished Iteration no 7 with loss: 2579349.4272460938\n"
     ]
    },
    {
     "name": "stderr",
     "output_type": "stream",
     "text": [
      "100%|██████████| 469/469 [01:04<00:00,  7.32it/s]\n"
     ]
    },
    {
     "name": "stdout",
     "output_type": "stream",
     "text": [
      "Finished Iteration no 8 with loss: 2470698.3012695312\n"
     ]
    },
    {
     "name": "stderr",
     "output_type": "stream",
     "text": [
      "100%|██████████| 469/469 [01:04<00:00,  7.31it/s]\n"
     ]
    },
    {
     "name": "stdout",
     "output_type": "stream",
     "text": [
      "Finished Iteration no 9 with loss: 2374933.6708984375\n"
     ]
    },
    {
     "name": "stderr",
     "output_type": "stream",
     "text": [
      "100%|██████████| 469/469 [01:04<00:00,  7.30it/s]\n"
     ]
    },
    {
     "name": "stdout",
     "output_type": "stream",
     "text": [
      "Finished Iteration no 10 with loss: 2309342.6557617188\n"
     ]
    },
    {
     "name": "stderr",
     "output_type": "stream",
     "text": [
      "100%|██████████| 469/469 [01:04<00:00,  7.27it/s]\n"
     ]
    },
    {
     "name": "stdout",
     "output_type": "stream",
     "text": [
      "Finished Iteration no 11 with loss: 2264175.8134765625\n"
     ]
    },
    {
     "name": "stderr",
     "output_type": "stream",
     "text": [
      "100%|██████████| 469/469 [01:04<00:00,  7.28it/s]\n"
     ]
    },
    {
     "name": "stdout",
     "output_type": "stream",
     "text": [
      "Finished Iteration no 12 with loss: 2231238.2065429688\n"
     ]
    },
    {
     "name": "stderr",
     "output_type": "stream",
     "text": [
      "100%|██████████| 469/469 [01:04<00:00,  7.30it/s]\n"
     ]
    },
    {
     "name": "stdout",
     "output_type": "stream",
     "text": [
      "Finished Iteration no 13 with loss: 2206964.1606445312\n"
     ]
    },
    {
     "name": "stderr",
     "output_type": "stream",
     "text": [
      "100%|██████████| 469/469 [01:04<00:00,  7.27it/s]\n"
     ]
    },
    {
     "name": "stdout",
     "output_type": "stream",
     "text": [
      "Finished Iteration no 14 with loss: 2188438.333984375\n"
     ]
    },
    {
     "name": "stderr",
     "output_type": "stream",
     "text": [
      "100%|██████████| 469/469 [01:04<00:00,  7.29it/s]\n"
     ]
    },
    {
     "name": "stdout",
     "output_type": "stream",
     "text": [
      "Finished Iteration no 15 with loss: 2171298.7504882812\n"
     ]
    },
    {
     "name": "stderr",
     "output_type": "stream",
     "text": [
      "100%|██████████| 469/469 [01:04<00:00,  7.29it/s]\n"
     ]
    },
    {
     "name": "stdout",
     "output_type": "stream",
     "text": [
      "Finished Iteration no 16 with loss: 2155112.5864257812\n"
     ]
    },
    {
     "name": "stderr",
     "output_type": "stream",
     "text": [
      "100%|██████████| 469/469 [01:04<00:00,  7.30it/s]\n"
     ]
    },
    {
     "name": "stdout",
     "output_type": "stream",
     "text": [
      "Finished Iteration no 17 with loss: 2143398.1577148438\n"
     ]
    },
    {
     "name": "stderr",
     "output_type": "stream",
     "text": [
      "100%|██████████| 469/469 [01:04<00:00,  7.29it/s]\n"
     ]
    },
    {
     "name": "stdout",
     "output_type": "stream",
     "text": [
      "Finished Iteration no 18 with loss: 2127810.637939453\n"
     ]
    },
    {
     "name": "stderr",
     "output_type": "stream",
     "text": [
      "100%|██████████| 469/469 [01:04<00:00,  7.28it/s]"
     ]
    },
    {
     "name": "stdout",
     "output_type": "stream",
     "text": [
      "Finished Iteration no 19 with loss: 2115767.3549804688\n"
     ]
    },
    {
     "name": "stderr",
     "output_type": "stream",
     "text": [
      "\n"
     ]
    }
   ],
   "source": [
    "train(epochs=20, vae=vae, dataloader=train_loader)"
   ]
  },
  {
   "cell_type": "code",
   "execution_count": 10,
   "metadata": {},
   "outputs": [
    {
     "data": {
      "text/plain": [
       "torch.Size([1, 28, 28])"
      ]
     },
     "execution_count": 10,
     "metadata": {},
     "output_type": "execute_result"
    }
   ],
   "source": [
    "sample[0].size()"
   ]
  },
  {
   "cell_type": "code",
   "execution_count": 11,
   "metadata": {},
   "outputs": [],
   "source": [
    "import matplotlib.pyplot as plt"
   ]
  },
  {
   "cell_type": "code",
   "execution_count": 12,
   "metadata": {},
   "outputs": [
    {
     "data": {
      "text/plain": [
       "<matplotlib.image.AxesImage at 0x73e27976ffb0>"
      ]
     },
     "execution_count": 12,
     "metadata": {},
     "output_type": "execute_result"
    },
    {
     "data": {
      "image/png": "[encoded data removed]",
      "text/plain": [
       "<Figure size 640x480 with 1 Axes>"
      ]
     },
     "metadata": {},
     "output_type": "display_data"
    }
   ],
   "source": [
    "plt.imshow(sample[0].detach().numpy().reshape(28,28))"
   ]
  },
  {
   "cell_type": "code",
   "execution_count": 34,
   "metadata": {},
   "outputs": [
    {
     "data": {
      "text/plain": [
       "<matplotlib.image.AxesImage at 0x73e24ff826f0>"
      ]
     },
     "execution_count": 34,
     "metadata": {},
     "output_type": "execute_result"
    },
    {
     "data": {
      "image/png": "[encoded data removed]",
      "text/plain": [
       "<Figure size 640x480 with 1 Axes>"
      ]
     },
     "metadata": {},
     "output_type": "display_data"
    },
    {
     "ename": "",
     "evalue": "",
     "output_type": "error",
     "traceback": [
      "\u001b[1;31mThe Kernel crashed while executing code in the the current cell or a previous cell. Please review the code in the cell(s) to identify a possible cause of the failure. Click <a href='https://aka.ms/vscodeJupyterKernelCrash'>here</a> for more info. View Jupyter <a href='command:jupyter.viewOutput'>log</a> for further details."
     ]
    }
   ],
   "source": [
    "plt.imshow(vae.to(torch.device(\"cpu\"))(sample[0].to(torch.device(\"cpu\"))).detach().numpy().reshape(28,28))\n"
   ]
  },
  {
   "cell_type": "code",
   "execution_count": 59,
   "metadata": {},
   "outputs": [
    {
     "data": {
      "text/plain": [
       "<matplotlib.image.AxesImage at 0x31fa71250>"
      ]
     },
     "execution_count": 59,
     "metadata": {},
     "output_type": "execute_result"
    },
    {
     "data": {
      "image/png": "[encoded data removed]",
      "text/plain": [
       "<Figure size 640x480 with 1 Axes>"
      ]
     },
     "metadata": {},
     "output_type": "display_data"
    }
   ],
   "source": [
    "\n",
    "plt.imshow(vae(sample[0]).detach().numpy().reshape(28,28))"
   ]
  },
  {
   "cell_type": "code",
   "execution_count": 61,
   "metadata": {},
   "outputs": [
    {
     "data": {
      "text/plain": [
       "<matplotlib.image.AxesImage at 0x31fd24650>"
      ]
     },
     "execution_count": 61,
     "metadata": {},
     "output_type": "execute_result"
    },
    {
     "data": {
      "image/png": "[encoded data removed]",
      "text/plain": [
       "<Figure size 640x480 with 1 Axes>"
      ]
     },
     "metadata": {},
     "output_type": "display_data"
    }
   ],
   "source": [
    "plt.imshow(vae(sample[0]).detach().numpy().reshape(28,28))"
   ]
  },
  {
   "cell_type": "code",
   "execution_count": 98,
   "metadata": {},
   "outputs": [
    {
     "data": {
      "text/plain": [
       "<matplotlib.image.AxesImage at 0x376335670>"
      ]
     },
     "execution_count": 98,
     "metadata": {},
     "output_type": "execute_result"
    },
    {
     "data": {
      "image/png": "[encoded data removed]",
      "text/plain": [
       "<Figure size 640x480 with 1 Axes>"
      ]
     },
     "metadata": {},
     "output_type": "display_data"
    }
   ],
   "source": [
    "plt.imshow(vae(sample[0]).detach().numpy().reshape(28,28))"
   ]
  },
  {
   "cell_type": "code",
   "execution_count": 74,
   "metadata": {},
   "outputs": [
    {
     "data": {
      "text/plain": [
       "<matplotlib.image.AxesImage at 0x329748230>"
      ]
     },
     "execution_count": 74,
     "metadata": {},
     "output_type": "execute_result"
    },
    {
     "data": {
      "image/png": "[encoded data removed]",
      "text/plain": [
       "<Figure size 640x480 with 1 Axes>"
      ]
     },
     "metadata": {},
     "output_type": "display_data"
    }
   ],
   "source": [
    "\n",
    "plt.imshow(vae(sample[0]).detach().numpy().reshape(28,28))"
   ]
  },
  {
   "cell_type": "code",
   "execution_count": 21,
   "metadata": {},
   "outputs": [
    {
     "ename": "NameError",
     "evalue": "name 'sample_batch' is not defined",
     "output_type": "error",
     "traceback": [
      "\u001b[0;31m---------------------------------------------------------------------------\u001b[0m",
      "\u001b[0;31mNameError\u001b[0m                                 Traceback (most recent call last)",
      "Cell \u001b[0;32mIn[21], line 1\u001b[0m\n\u001b[0;32m----> 1\u001b[0m \u001b[43msample_batch\u001b[49m[\u001b[38;5;241m0\u001b[39m]\n",
      "\u001b[0;31mNameError\u001b[0m: name 'sample_batch' is not defined"
     ]
    }
   ],
   "source": [
    "sample_batch[0]"
   ]
  },
  {
   "cell_type": "code",
   "execution_count": null,
   "metadata": {},
   "outputs": [
    {
     "data": {
      "text/plain": [
       "torch.Size([64, 784])"
      ]
     },
     "execution_count": 307,
     "metadata": {},
     "output_type": "execute_result"
    }
   ],
   "source": [
    "\n",
    "vae(sample_batch[0]).size()"
   ]
  },
  {
   "cell_type": "code",
   "execution_count": 31,
   "metadata": {},
   "outputs": [
    {
     "ename": "NameError",
     "evalue": "name 'sample_batch' is not defined",
     "output_type": "error",
     "traceback": [
      "\u001b[0;31m---------------------------------------------------------------------------\u001b[0m",
      "\u001b[0;31mNameError\u001b[0m                                 Traceback (most recent call last)",
      "Cell \u001b[0;32mIn[31], line 1\u001b[0m\n\u001b[0;32m----> 1\u001b[0m plt\u001b[38;5;241m.\u001b[39mimshow(vae(\u001b[43msample_batch\u001b[49m[\u001b[38;5;241m0\u001b[39m])[\u001b[38;5;241m0\u001b[39m]\u001b[38;5;241m.\u001b[39mdetach()\u001b[38;5;241m.\u001b[39mnumpy()\u001b[38;5;241m.\u001b[39mreshape(\u001b[38;5;241m28\u001b[39m,\u001b[38;5;241m28\u001b[39m))\n\u001b[1;32m      2\u001b[0m \u001b[38;5;66;03m# plt.imshow(sample_batch[0][3].reshape(28,28))\u001b[39;00m\n",
      "\u001b[0;31mNameError\u001b[0m: name 'sample_batch' is not defined"
     ]
    }
   ],
   "source": [
    "plt.imshow(vae(sample_batch[0])[0].detach().numpy().reshape(28,28))\n",
    "# plt.imshow(sample_batch[0][3].reshape(28,28))"
   ]
  },
  {
   "cell_type": "code",
   "execution_count": 284,
   "metadata": {},
   "outputs": [
    {
     "ename": "TypeError",
     "evalue": "'int' object is not callable",
     "output_type": "error",
     "traceback": [
      "\u001b[0;31m---------------------------------------------------------------------------\u001b[0m",
      "\u001b[0;31mTypeError\u001b[0m                                 Traceback (most recent call last)",
      "Cell \u001b[0;32mIn[284], line 1\u001b[0m\n\u001b[0;32m----> 1\u001b[0m plt\u001b[38;5;241m.\u001b[39mimshow(\u001b[43mvae\u001b[49m\u001b[38;5;241;43m.\u001b[39;49m\u001b[43mdec\u001b[49m\u001b[43m(\u001b[49m\u001b[43mtorch\u001b[49m\u001b[38;5;241;43m.\u001b[39;49m\u001b[43mdistributions\u001b[49m\u001b[38;5;241;43m.\u001b[39;49m\u001b[43mMultivariateNormal\u001b[49m\u001b[43m(\u001b[49m\u001b[43mtorch\u001b[49m\u001b[38;5;241;43m.\u001b[39;49m\u001b[43mones\u001b[49m\u001b[43m(\u001b[49m\u001b[38;5;241;43m5\u001b[39;49m\u001b[43m)\u001b[49m\u001b[43m,\u001b[49m\u001b[43m \u001b[49m\u001b[43mcovariance_matrix\u001b[49m\u001b[38;5;241;43m=\u001b[39;49m\u001b[43mtorch\u001b[49m\u001b[38;5;241;43m.\u001b[39;49m\u001b[43mdiag_embed\u001b[49m\u001b[43m(\u001b[49m\u001b[43mtorch\u001b[49m\u001b[38;5;241;43m.\u001b[39;49m\u001b[43mones\u001b[49m\u001b[43m(\u001b[49m\u001b[38;5;241;43m5\u001b[39;49m\u001b[43m)\u001b[49m\u001b[43m)\u001b[49m\u001b[43m)\u001b[49m\u001b[38;5;241;43m.\u001b[39;49m\u001b[43mrsample\u001b[49m\u001b[43m(\u001b[49m\u001b[43m)\u001b[49m\u001b[38;5;241;43m.\u001b[39;49m\u001b[43mdetach\u001b[49m\u001b[43m(\u001b[49m\u001b[43m)\u001b[49m\u001b[38;5;241;43m.\u001b[39;49m\u001b[43mnumpy\u001b[49m\u001b[43m(\u001b[49m\u001b[43m)\u001b[49m\u001b[43m)\u001b[49m)\n",
      "Cell \u001b[0;32mIn[144], line 62\u001b[0m, in \u001b[0;36mDecoder.__call__\u001b[0;34m(self, x)\u001b[0m\n\u001b[1;32m     61\u001b[0m \u001b[38;5;28;01mdef\u001b[39;00m \u001b[38;5;21m__call__\u001b[39m(\u001b[38;5;28mself\u001b[39m, x: Tensor):\n\u001b[0;32m---> 62\u001b[0m     \u001b[38;5;28;01mreturn\u001b[39;00m \u001b[38;5;28;43mself\u001b[39;49m\u001b[38;5;241;43m.\u001b[39;49m\u001b[43m__forward__\u001b[49m\u001b[43m(\u001b[49m\u001b[43mx\u001b[49m\u001b[43m)\u001b[49m\n",
      "Cell \u001b[0;32mIn[144], line 51\u001b[0m, in \u001b[0;36mDecoder.__forward__\u001b[0;34m(self, x)\u001b[0m\n\u001b[1;32m     50\u001b[0m \u001b[38;5;28;01mdef\u001b[39;00m \u001b[38;5;21m__forward__\u001b[39m(\u001b[38;5;28mself\u001b[39m, x: Tensor):\n\u001b[0;32m---> 51\u001b[0m     logger\u001b[38;5;241m.\u001b[39minfo(\u001b[43mx\u001b[49m\u001b[38;5;241;43m.\u001b[39;49m\u001b[43msize\u001b[49m\u001b[43m(\u001b[49m\u001b[43m)\u001b[49m)\n\u001b[1;32m     52\u001b[0m     x \u001b[38;5;241m=\u001b[39m \u001b[38;5;28mself\u001b[39m\u001b[38;5;241m.\u001b[39minp_layer(x)\n\u001b[1;32m     53\u001b[0m     logger\u001b[38;5;241m.\u001b[39minfo(x\u001b[38;5;241m.\u001b[39msize())\n",
      "\u001b[0;31mTypeError\u001b[0m: 'int' object is not callable"
     ]
    }
   ],
   "source": [
    "plt.imshow(vae.dec(torch.distributions.MultivariateNormal(torch.ones(5), covariance_matrix=torch.diag_embed(torch.ones(5))).rsample().detach().numpy()))"
   ]
  },
  {
   "cell_type": "code",
   "execution_count": null,
   "metadata": {},
   "outputs": [],
   "source": []
  }
 ],
 "metadata": {
  "kernelspec": {
   "display_name": "ML-practice",
   "language": "python",
   "name": "python3"
  },
  "language_info": {
   "codemirror_mode": {
    "name": "ipython",
    "version": 3
   },
   "file_extension": ".py",
   "mimetype": "text/x-python",
   "name": "python",
   "nbconvert_exporter": "python",
   "pygments_lexer": "ipython3",
   "version": "3.12.8"
  }
 },
 "nbformat": 4,
 "nbformat_minor": 2
}
